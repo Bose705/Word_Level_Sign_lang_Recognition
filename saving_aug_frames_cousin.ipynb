{
 "cells": [
  {
   "cell_type": "code",
   "execution_count": 2,
   "id": "3ebec871",
   "metadata": {},
   "outputs": [],
   "source": [
    "import pandas as pd\n",
    "import numpy as np\n",
    "import mediapipe as mp\n",
    "import cv2\n",
    "import matplotlib.pyplot as plt\n",
    "import os\n",
    "from tensorflow.keras.preprocessing.image import ImageDataGenerator\n",
    "import scipy.ndimage\n",
    "import random\n",
    "import re"
   ]
  },
  {
   "cell_type": "markdown",
   "id": "f0071318",
   "metadata": {},
   "source": [
    "# WORD: COUSIN"
   ]
  },
  {
   "cell_type": "code",
   "execution_count": 13,
   "id": "83447114",
   "metadata": {},
   "outputs": [],
   "source": [
    "frames_folder_path = \"D:\\\\Datasets\\\\minor2_dataset2\\\\3_word_dataset\\\\cousin\"\n",
    "frames_folder_dir = os.listdir(frames_folder_path)\n",
    "\n",
    "save = \"D:\\\\Datasets\\\\minor2_dataset2\\\\3_word_aug_dataset\\\\cousin\" "
   ]
  },
  {
   "cell_type": "code",
   "execution_count": 4,
   "id": "f070a93f",
   "metadata": {},
   "outputs": [],
   "source": [
    "def sort_key(filename):\n",
    "        match = re.compile(r'^(\\d+)\\.jpg$').match(filename)\n",
    "        if match:\n",
    "            return int(match.group(1))\n",
    "        else:\n",
    "            return 0"
   ]
  },
  {
   "cell_type": "markdown",
   "id": "e1903c45",
   "metadata": {},
   "source": [
    "## Augmentation technique - Rotation "
   ]
  },
  {
   "cell_type": "code",
   "execution_count": 5,
   "id": "17de74b5",
   "metadata": {},
   "outputs": [],
   "source": [
    "def rotation(frames, save_path):\n",
    "    \"\"\"\n",
    "    Apply a rotation to a list of frames and save them to a specified directory.\n",
    "    \n",
    "    Args:\n",
    "    frames: A list of frames to be rotated.\n",
    "    save_path: The path to the directory where the augmented frames should be saved.\n",
    "    \"\"\"\n",
    "    # Define the rotation angle in degrees\n",
    "    rotation_angle = 10\n",
    "\n",
    "    # Apply the rotation to all frames\n",
    "    for i, frame in enumerate(frames):\n",
    "        # Get the image dimensions\n",
    "        height, width = frame.shape[:2]\n",
    "        \n",
    "        # Calculate the center of the image\n",
    "        center = (width / 2, height / 2)\n",
    "        \n",
    "        # Perform the rotation\n",
    "        rotation_matrix = cv2.getRotationMatrix2D(center, rotation_angle, 1.0)\n",
    "        augmented_frame = cv2.warpAffine(frame, rotation_matrix, (width, height))\n",
    "        \n",
    "        # Construct the full file path for the augmented frame\n",
    "        file_path = os.path.join(save_path, f\"frame_{i+1}.jpg\")\n",
    "        \n",
    "        # Save the augmented frame\n",
    "        cv2.imwrite(file_path, augmented_frame)"
   ]
  },
  {
   "cell_type": "code",
   "execution_count": 8,
   "id": "cc5062aa",
   "metadata": {},
   "outputs": [],
   "source": [
    "for video in frames_folder_dir:\n",
    "    video_path = os.path.join(frames_folder_path, video,\"_5\")\n",
    "    frm_dir = sorted(os.listdir(video_path), key=sort_key)\n",
    "    new_path = os.path.join(save, video, \"_0\")\n",
    "    os.makedirs(new_path, exist_ok=True)\n",
    "    # List to store frames\n",
    "    frames = []\n",
    "    # List all files in the folder\n",
    "    for filename in frm_dir:\n",
    "        # Construct the full file path\n",
    "        file_path = os.path.join(video_path, filename)\n",
    "        # Read the image file\n",
    "        frame = cv2.imread(file_path)\n",
    "\n",
    "        # Append the frame to the list\n",
    "        frames.append(frame)\n",
    "        # Now, 'frames' is a list of all frames in the folder\n",
    "    rotation(frames, new_path)"
   ]
  },
  {
   "cell_type": "markdown",
   "id": "cf3581a7",
   "metadata": {},
   "source": [
    "## Augmentation technique - Horizontal flip"
   ]
  },
  {
   "cell_type": "code",
   "execution_count": 11,
   "id": "377006e0",
   "metadata": {},
   "outputs": [],
   "source": [
    "def horizontal_flip(frames, save_path):\n",
    "    \"\"\"\n",
    "    Apply a horizontal flip to a list of frames and save them to a specified directory.\n",
    "    \n",
    "    Args:\n",
    "    frames: A list of frames to be flipped.\n",
    "    save_path: The path to the directory where the augmented frames should be saved.\n",
    "    \"\"\"\n",
    "    # Apply the horizontal flip to all frames\n",
    "    for i, frame in enumerate(frames):\n",
    "        if frame is None:\n",
    "            print(f\"Failed to read frame {i+1}. Skipping.\")\n",
    "            continue\n",
    "        \n",
    "        # Flip the frame horizontally\n",
    "        flipped_frame = cv2.flip(frame, 1)\n",
    "        \n",
    "        # Construct the full file path for the flipped frame\n",
    "        file_path = os.path.join(save_path, f\"frame_{i+1}.jpg\")\n",
    "        \n",
    "        # Save the flipped frame\n",
    "        cv2.imwrite(file_path, flipped_frame)"
   ]
  },
  {
   "cell_type": "code",
   "execution_count": 12,
   "id": "bcb4db93",
   "metadata": {},
   "outputs": [],
   "source": [
    "for video in frames_folder_dir:\n",
    "    video_path = os.path.join(frames_folder_path, video,\"_5\")\n",
    "    frm_dir = sorted(os.listdir(video_path), key=sort_key)\n",
    "    new_path = os.path.join(save, video, \"_1\")\n",
    "    os.makedirs(new_path, exist_ok=True)\n",
    "    # List to store frames\n",
    "    frames = []\n",
    "    # List all files in the folder\n",
    "    for filename in frm_dir:\n",
    "        # Construct the full file path\n",
    "        file_path = os.path.join(video_path, filename)\n",
    "        # Read the image file\n",
    "        frame = cv2.imread(file_path)\n",
    "\n",
    "        # Append the frame to the list\n",
    "        frames.append(frame)\n",
    "        # Now, 'frames' is a list of all frames in the folder\n",
    "    horizontal_flip(frames, new_path)"
   ]
  },
  {
   "cell_type": "markdown",
   "id": "619eddcc",
   "metadata": {},
   "source": [
    "## Augmentation technique - brightness, contrast"
   ]
  },
  {
   "cell_type": "code",
   "execution_count": 20,
   "id": "dfc796ca",
   "metadata": {},
   "outputs": [],
   "source": [
    "def adjust_brightness_contrast(frames, save_path, alpha=0.7, beta=-10):\n",
    "    \"\"\"\n",
    "    Apply brightness and contrast adjustments to a list of frames and save them to a specified directory.\n",
    "    \n",
    "    Args:\n",
    "    frames: A list of frames to be adjusted.\n",
    "    save_path: The path to the directory where the augmented frames should be saved.\n",
    "    alpha: Contrast control (1.0-3.0). Default is 0.7.\n",
    "    beta: Brightness control (0-100). Default is -10.\n",
    "    \"\"\"\n",
    "    # Apply the brightness and contrast adjustment to all frames\n",
    "    for i, frame in enumerate(frames):\n",
    "        if frame is None:\n",
    "            print(f\"Failed to read frame {i+1}. Skipping.\")\n",
    "            continue\n",
    "        \n",
    "        # Adjust the brightness and contrast\n",
    "        adjusted_frame = cv2.convertScaleAbs(frame, alpha=alpha, beta=beta)\n",
    "        \n",
    "        # Construct the full file path for the adjusted frame\n",
    "        file_path = os.path.join(save_path, f\"frame_{i+1}.jpg\")\n",
    "        \n",
    "        # Save the adjusted frame\n",
    "        cv2.imwrite(file_path, adjusted_frame)"
   ]
  },
  {
   "cell_type": "code",
   "execution_count": 21,
   "id": "e8238a32",
   "metadata": {},
   "outputs": [],
   "source": [
    "for video in frames_folder_dir:\n",
    "    video_path = os.path.join(frames_folder_path, video,\"_5\")\n",
    "    frm_dir = sorted(os.listdir(video_path), key=sort_key)\n",
    "    new_path = os.path.join(save, video, \"_2\")\n",
    "    os.makedirs(new_path, exist_ok=True)\n",
    "    # List to store frames\n",
    "    frames = []\n",
    "    # List all files in the folder\n",
    "    for filename in frm_dir:\n",
    "        # Construct the full file path\n",
    "        file_path = os.path.join(video_path, filename)\n",
    "        # Read the image file\n",
    "        frame = cv2.imread(file_path)\n",
    "\n",
    "        # Append the frame to the list\n",
    "        frames.append(frame)\n",
    "        # Now, 'frames' is a list of all frames in the folder\n",
    "    adjust_brightness_contrast(frames, new_path)"
   ]
  },
  {
   "cell_type": "markdown",
   "id": "1ac1b77b",
   "metadata": {},
   "source": [
    "## Augmentation technique - random erase"
   ]
  },
  {
   "cell_type": "code",
   "execution_count": 22,
   "id": "ae045ccf",
   "metadata": {},
   "outputs": [],
   "source": [
    "def random_erase(frame, p=0.5, s=(0.02, 0.45), r=(0.3, 4)):\n",
    "    if random.random() < p:\n",
    "        h, w = frame.shape[:2]\n",
    "        s_h, s_w = int(h * s[0]), int(w * s[1]) # Convert to integers\n",
    "        r_h, r_w = int(s_h * r[0]), int(s_w * r[1])\n",
    "        x = random.randrange(0, h - s_h)\n",
    "        y = random.randrange(0, w - s_w)\n",
    "        frame[y:y+r_h, x:x+r_w] = 0 # Set the selected area to black\n",
    "    return frame\n"
   ]
  },
  {
   "cell_type": "code",
   "execution_count": 23,
   "id": "7980e197",
   "metadata": {},
   "outputs": [],
   "source": [
    "def apply_random_erase(frames, save_path):\n",
    "    \"\"\"\n",
    "    Apply random erasing to a list of frames and save them to a specified directory.\n",
    "    \n",
    "    Args:\n",
    "    frames: A list of frames to be erased.\n",
    "    save_path: The path to the directory where the augmented frames should be saved.\n",
    "    \"\"\"\n",
    "    # Apply the random erase to all frames\n",
    "    for i, frame in enumerate(frames):\n",
    "        if frame is None:\n",
    "            print(f\"Failed to read frame {i+1}. Skipping.\")\n",
    "            continue\n",
    "        \n",
    "        # Apply the random erase\n",
    "        augmented_frame = random_erase(frame)\n",
    "        \n",
    "        # Construct the full file path for the erased frame\n",
    "        file_path = os.path.join(save_path, f\"frame_{i+1}.jpg\")\n",
    "        \n",
    "        # Save the erased frame\n",
    "        cv2.imwrite(file_path, augmented_frame)"
   ]
  },
  {
   "cell_type": "code",
   "execution_count": 24,
   "id": "55f1167b",
   "metadata": {},
   "outputs": [],
   "source": [
    "for video in frames_folder_dir:\n",
    "    video_path = os.path.join(frames_folder_path, video,\"_5\")\n",
    "    frm_dir = sorted(os.listdir(video_path), key=sort_key)\n",
    "    new_path = os.path.join(save, video, \"_3\")\n",
    "    os.makedirs(new_path, exist_ok=True)\n",
    "    # List to store frames\n",
    "    frames = []\n",
    "    # List all files in the folder\n",
    "    for filename in frm_dir:\n",
    "        # Construct the full file path\n",
    "        file_path = os.path.join(video_path, filename)\n",
    "        # Read the image file\n",
    "        frame = cv2.imread(file_path)\n",
    "\n",
    "        # Append the frame to the list\n",
    "        frames.append(frame)\n",
    "        # Now, 'frames' is a list of all frames in the folder\n",
    "    apply_random_erase(frames, new_path)"
   ]
  },
  {
   "cell_type": "markdown",
   "id": "9816d2fd",
   "metadata": {},
   "source": [
    "## Augmentation technique - noise"
   ]
  },
  {
   "cell_type": "code",
   "execution_count": 25,
   "id": "12a2740e",
   "metadata": {},
   "outputs": [],
   "source": [
    "def apply_gaussian_noise(frames, save_path, mean=0, std_dev=1):\n",
    "    \"\"\"\n",
    "    Apply Gaussian noise to a list of frames and save them to a specified directory.\n",
    "    \n",
    "    Args:\n",
    "    frames: A list of frames to be augmented with Gaussian noise.\n",
    "    save_path: The path to the directory where the augmented frames should be saved.\n",
    "    mean: Mean of the Gaussian distribution. Default is 0.\n",
    "    std_dev: Standard deviation of the Gaussian distribution. Default is 1.\n",
    "    \"\"\"\n",
    "    # Apply Gaussian noise to all frames\n",
    "    for i, frame in enumerate(frames):\n",
    "        if frame is None:\n",
    "            print(f\"Failed to read frame {i+1}. Skipping.\")\n",
    "            continue\n",
    "        \n",
    "        # Add Gaussian noise\n",
    "        noise = np.random.normal(mean, std_dev, frame.shape).astype(np.uint8)\n",
    "        noisy_frame = cv2.add(frame, noise)\n",
    "        \n",
    "        # Ensure the pixel values are within the valid range [0, 255]\n",
    "        noisy_frame = np.clip(noisy_frame, 0, 255).astype(np.uint8)\n",
    "        \n",
    "        # Construct the full file path for the noisy frame\n",
    "        file_path = os.path.join(save_path, f\"frame_{i+1}.jpg\")\n",
    "        \n",
    "        # Save the noisy frame\n",
    "        cv2.imwrite(file_path, noisy_frame)"
   ]
  },
  {
   "cell_type": "code",
   "execution_count": 27,
   "id": "431b3006",
   "metadata": {},
   "outputs": [],
   "source": [
    "for video in frames_folder_dir:\n",
    "    video_path = os.path.join(frames_folder_path, video,\"_5\")\n",
    "    frm_dir = sorted(os.listdir(video_path), key=sort_key)\n",
    "    new_path = os.path.join(save, video, \"_4\")\n",
    "    os.makedirs(new_path, exist_ok=True)\n",
    "    # List to store frames\n",
    "    frames = []\n",
    "    # List all files in the folder\n",
    "    for filename in frm_dir:\n",
    "        # Construct the full file path\n",
    "        file_path = os.path.join(video_path, filename)\n",
    "        # Read the image file\n",
    "        frame = cv2.imread(file_path)\n",
    "\n",
    "        # Append the frame to the list\n",
    "        frames.append(frame)\n",
    "        # Now, 'frames' is a list of all frames in the folder\n",
    "    apply_gaussian_noise(frames, new_path)"
   ]
  },
  {
   "cell_type": "code",
   "execution_count": null,
   "id": "67c18e89",
   "metadata": {},
   "outputs": [],
   "source": []
  },
  {
   "cell_type": "code",
   "execution_count": null,
   "id": "7513e409",
   "metadata": {},
   "outputs": [],
   "source": []
  },
  {
   "cell_type": "code",
   "execution_count": null,
   "id": "79964f39",
   "metadata": {},
   "outputs": [],
   "source": []
  },
  {
   "cell_type": "code",
   "execution_count": null,
   "id": "dc7b3614",
   "metadata": {},
   "outputs": [],
   "source": []
  },
  {
   "cell_type": "code",
   "execution_count": null,
   "id": "9d19ddf3",
   "metadata": {},
   "outputs": [],
   "source": []
  },
  {
   "cell_type": "code",
   "execution_count": null,
   "id": "2c6b3a2d",
   "metadata": {},
   "outputs": [],
   "source": []
  },
  {
   "cell_type": "code",
   "execution_count": null,
   "id": "e9df9a8e",
   "metadata": {},
   "outputs": [],
   "source": []
  },
  {
   "cell_type": "code",
   "execution_count": null,
   "id": "1e01af98",
   "metadata": {},
   "outputs": [],
   "source": []
  },
  {
   "cell_type": "code",
   "execution_count": null,
   "id": "e217eca3",
   "metadata": {},
   "outputs": [],
   "source": []
  },
  {
   "cell_type": "code",
   "execution_count": null,
   "id": "efe324dd",
   "metadata": {},
   "outputs": [],
   "source": []
  },
  {
   "cell_type": "code",
   "execution_count": null,
   "id": "641bab65",
   "metadata": {},
   "outputs": [],
   "source": []
  },
  {
   "cell_type": "code",
   "execution_count": null,
   "id": "557f0e62",
   "metadata": {},
   "outputs": [],
   "source": []
  },
  {
   "cell_type": "code",
   "execution_count": null,
   "id": "60e096de",
   "metadata": {},
   "outputs": [],
   "source": []
  },
  {
   "cell_type": "code",
   "execution_count": null,
   "id": "0d0ec256",
   "metadata": {},
   "outputs": [],
   "source": []
  },
  {
   "cell_type": "code",
   "execution_count": null,
   "id": "8becf229",
   "metadata": {},
   "outputs": [],
   "source": []
  },
  {
   "cell_type": "code",
   "execution_count": null,
   "id": "2fcd46f6",
   "metadata": {},
   "outputs": [],
   "source": []
  },
  {
   "cell_type": "code",
   "execution_count": null,
   "id": "6c68dd36",
   "metadata": {},
   "outputs": [],
   "source": []
  },
  {
   "cell_type": "markdown",
   "id": "e4c0315b",
   "metadata": {},
   "source": [
    "### # Geometric transformations"
   ]
  },
  {
   "cell_type": "code",
   "execution_count": 5,
   "id": "1e5ced45",
   "metadata": {},
   "outputs": [],
   "source": [
    "# # Initialize the ImageDataGenerator with geometric transformations\n",
    "# datagen = ImageDataGenerator(\n",
    "#     rotation_range=20, # Rotate the image by up to 20 degrees\n",
    "#     width_shift_range=0.2, # Shift the image horizontally by up to 20% of the width\n",
    "#     height_shift_range=0.2, # Shift the image vertically by up to 20% of the height\n",
    "#     horizontal_flip=True, # Flip the image horizontally\n",
    "#     vertical_flip=True, # Flip the image vertically\n",
    "#     zoom_range=0.2, # Zoom in on the image by up to 20%\n",
    "#     fill_mode='nearest' # Fill in the gaps with the nearest pixel\n",
    "# )"
   ]
  },
  {
   "cell_type": "code",
   "execution_count": 6,
   "id": "09b05b5e",
   "metadata": {},
   "outputs": [],
   "source": [
    "# def frame_transformation(frames, out_video):\n",
    "#     count = 0\n",
    "#     # Apply the generator to the frames\n",
    "#     for frame in frames: # Assuming 'frames' is a list of video frames\n",
    "#         # Add an extra dimension to represent the batch size\n",
    "#         frame_with_batch_dim = np.expand_dims(frame, axis=0)\n",
    "\n",
    "#         # Now, frame_with_batch_dim has shape (1, height, width, channels)\n",
    "#         augmented_frame = next(datagen.flow(frame_with_batch_dim, batch_size=1))[0]\n",
    "#         image_path = os.path.join(out_video, \"{}.jpg\".format(count))\n",
    "#         cv2.imwrite(image_path, augmented_frame)\n",
    "#         count += 1"
   ]
  },
  {
   "cell_type": "code",
   "execution_count": 7,
   "id": "2dc767ab",
   "metadata": {},
   "outputs": [],
   "source": [
    "# for video in frames_folder_dir:\n",
    "#     video_path = os.path.join(frames_folder_path, video)\n",
    "#     frm_dir = sorted(os.listdir(video_path), key=sort_key)\n",
    "#     new_path = os.path.join(save, video, \"_0\")\n",
    "#     os.makedirs(new_path, exist_ok=True)\n",
    "#     # List to store frames\n",
    "#     frames = []\n",
    "#     # List all files in the folder\n",
    "#     for filename in frm_dir:\n",
    "#         # Construct the full file path\n",
    "#         file_path = os.path.join(video_path, filename)\n",
    "#         # Read the image file\n",
    "#         frame = cv2.imread(file_path)\n",
    "\n",
    "#         # Append the frame to the list\n",
    "#         frames.append(frame)\n",
    "#         # Now, 'frames' is a list of all frames in the folder\n",
    "#     frame_transformation(frames, new_path)"
   ]
  },
  {
   "cell_type": "code",
   "execution_count": null,
   "id": "bbed1d85",
   "metadata": {},
   "outputs": [],
   "source": []
  },
  {
   "cell_type": "code",
   "execution_count": null,
   "id": "525aca44",
   "metadata": {},
   "outputs": [],
   "source": []
  },
  {
   "cell_type": "code",
   "execution_count": null,
   "id": "17ba1d27",
   "metadata": {},
   "outputs": [],
   "source": []
  },
  {
   "cell_type": "code",
   "execution_count": null,
   "id": "0cfe9755",
   "metadata": {},
   "outputs": [],
   "source": []
  },
  {
   "cell_type": "code",
   "execution_count": null,
   "id": "117e46e4",
   "metadata": {},
   "outputs": [],
   "source": []
  },
  {
   "cell_type": "code",
   "execution_count": null,
   "id": "25fc9658",
   "metadata": {},
   "outputs": [],
   "source": []
  },
  {
   "cell_type": "code",
   "execution_count": null,
   "id": "7af8d88a",
   "metadata": {},
   "outputs": [],
   "source": []
  },
  {
   "cell_type": "code",
   "execution_count": null,
   "id": "cc8c6821",
   "metadata": {},
   "outputs": [],
   "source": []
  },
  {
   "cell_type": "code",
   "execution_count": null,
   "id": "1e4aa3d2",
   "metadata": {},
   "outputs": [],
   "source": []
  },
  {
   "cell_type": "code",
   "execution_count": null,
   "id": "2aaae157",
   "metadata": {},
   "outputs": [],
   "source": []
  },
  {
   "cell_type": "code",
   "execution_count": null,
   "id": "0c9346e3",
   "metadata": {},
   "outputs": [],
   "source": []
  },
  {
   "cell_type": "code",
   "execution_count": null,
   "id": "fed9c17a",
   "metadata": {},
   "outputs": [],
   "source": []
  },
  {
   "cell_type": "code",
   "execution_count": null,
   "id": "e3eca826",
   "metadata": {},
   "outputs": [],
   "source": []
  },
  {
   "cell_type": "code",
   "execution_count": null,
   "id": "84fe3cea",
   "metadata": {},
   "outputs": [],
   "source": []
  },
  {
   "cell_type": "code",
   "execution_count": null,
   "id": "0e21864d",
   "metadata": {},
   "outputs": [],
   "source": []
  },
  {
   "cell_type": "code",
   "execution_count": null,
   "id": "e95b82ea",
   "metadata": {},
   "outputs": [],
   "source": []
  },
  {
   "cell_type": "code",
   "execution_count": null,
   "id": "9fec9a4a",
   "metadata": {},
   "outputs": [],
   "source": []
  },
  {
   "cell_type": "code",
   "execution_count": null,
   "id": "9eb4c871",
   "metadata": {},
   "outputs": [],
   "source": []
  },
  {
   "cell_type": "code",
   "execution_count": null,
   "id": "cd2769ac",
   "metadata": {},
   "outputs": [],
   "source": []
  },
  {
   "cell_type": "markdown",
   "id": "bb4d768f",
   "metadata": {},
   "source": [
    "### Color Space transformations"
   ]
  },
  {
   "cell_type": "code",
   "execution_count": 8,
   "id": "f0f4ff79",
   "metadata": {},
   "outputs": [],
   "source": [
    "# # Initialize the ImageDataGenerator with color space transformations\n",
    "# datagen = ImageDataGenerator(\n",
    "#     brightness_range=[0.2, 1.0], # Intensify the brightness of the image\n",
    "#     channel_shift_range=20.0, # Shift the color channels by up to 20\n",
    "#     fill_mode='nearest' # Fill in the gaps with the nearest pixel\n",
    "# )"
   ]
  },
  {
   "cell_type": "code",
   "execution_count": 9,
   "id": "c38422f2",
   "metadata": {},
   "outputs": [],
   "source": [
    "# def col_trans(frames, out_video):\n",
    "#     count = 0\n",
    "#     # Apply the generator to the frames\n",
    "#     for frame in frames: # Assuming 'frames' is a list of video frames\n",
    "#         # Add an extra dimension to represent the batch size\n",
    "#         frame_with_batch_dim = np.expand_dims(frame, axis=0)\n",
    "\n",
    "#         # Now, frame_with_batch_dim has shape (1, height, width, channels)\n",
    "#         augmented_frame = next(datagen.flow(frame_with_batch_dim, batch_size=1))[0]\n",
    "#         image_path = os.path.join(out_video, \"{}.jpg\".format(count))\n",
    "#         cv2.imwrite(image_path, augmented_frame)\n",
    "#         count += 1      "
   ]
  },
  {
   "cell_type": "code",
   "execution_count": 10,
   "id": "8993fba3",
   "metadata": {},
   "outputs": [],
   "source": [
    "# for video in frames_folder_dir:\n",
    "#     video_path = os.path.join(frames_folder_path, video)\n",
    "#     frm_dir = sorted(os.listdir(video_path), key=sort_key)\n",
    "#     new_path = os.path.join(save, video, \"_1\")\n",
    "#     os.makedirs(new_path, exist_ok=True)\n",
    "#     # List to store frames\n",
    "#     frames = []\n",
    "#     # List all files in the folder\n",
    "#     for filename in frm_dir:\n",
    "#         # Construct the full file path\n",
    "#         file_path = os.path.join(video_path, filename)\n",
    "#         # Read the image file\n",
    "#         frame = cv2.imread(file_path)\n",
    "\n",
    "#         # Append the frame to the list\n",
    "#         frames.append(frame)\n",
    "#         # Now, 'frames' is a list of all frames in the folder\n",
    "#     col_trans(frames, new_path)"
   ]
  },
  {
   "cell_type": "markdown",
   "id": "9694cb15",
   "metadata": {},
   "source": [
    "### Sharpening Transformation"
   ]
  },
  {
   "cell_type": "code",
   "execution_count": 11,
   "id": "0e8b129f",
   "metadata": {},
   "outputs": [],
   "source": [
    "# def apply_kernel(frames,out_video):\n",
    "#     count = 0\n",
    "#     kernel = np.array([[-1, -1, -1],\n",
    "#                        [-1, 9, -1],\n",
    "#                        [-1, -1, -1]])\n",
    "#     for frame in frames:\n",
    "#         cv2.filter2D(frame, -1, kernel)\n",
    "#         image_path = os.path.join(out_video, \"{}.jpg\".format(count))\n",
    "#         cv2.imwrite(image_path, frame)\n",
    "#         count += 1"
   ]
  },
  {
   "cell_type": "code",
   "execution_count": 12,
   "id": "86605b4a",
   "metadata": {},
   "outputs": [],
   "source": [
    "# for video in frames_folder_dir:\n",
    "#     video_path = os.path.join(frames_folder_path, video)\n",
    "#     frm_dir = sorted(os.listdir(video_path), key=sort_key)\n",
    "#     new_path = os.path.join(save, video, \"_2\")\n",
    "#     os.makedirs(new_path, exist_ok=True)\n",
    "#     # List to store frames\n",
    "#     frames = []\n",
    "#     # List all files in the folder\n",
    "#     for filename in frm_dir:\n",
    "#         # Construct the full file path\n",
    "#         file_path = os.path.join(video_path, filename)\n",
    "#         # Read the image file\n",
    "#         frame = cv2.imread(file_path)\n",
    "\n",
    "#         # Append the frame to the list\n",
    "#         frames.append(frame)\n",
    "#         # Now, 'frames' is a list of all frames in the folder\n",
    "#     apply_kernel(frames, new_path)"
   ]
  },
  {
   "cell_type": "code",
   "execution_count": null,
   "id": "c0c8ffff",
   "metadata": {},
   "outputs": [],
   "source": []
  },
  {
   "cell_type": "markdown",
   "id": "e2ae6876",
   "metadata": {},
   "source": [
    "### Random Erase"
   ]
  },
  {
   "cell_type": "code",
   "execution_count": 13,
   "id": "427f5e5f",
   "metadata": {},
   "outputs": [],
   "source": [
    "# def random_erase(frames, out_video, p=0.5, s=(0.03, 0.4), r=(0.3, 3)):\n",
    "#     count = 0\n",
    "#     for frame in frames:\n",
    "#         if random.random() < p:\n",
    "#             h, w = frame.shape[:2]\n",
    "#             s_h, s_w = int(h * s[0]), int(w * s[1]) # Convert to integers\n",
    "#             r_h, r_w = int(s_h * r[0]), int(s_w * r[1])\n",
    "#             x = random.randrange(0, h - s_h)\n",
    "#             y = random.randrange(0, w - s_w)\n",
    "#             frame[y:y+r_h, x:x+r_w] = 0 # Set the selected area to black\n",
    "#             image_path = os.path.join(out_video, \"{}.jpg\".format(count))\n",
    "#             cv2.imwrite(image_path, frame)\n",
    "#             count += 1"
   ]
  },
  {
   "cell_type": "code",
   "execution_count": 14,
   "id": "daaabe6c",
   "metadata": {},
   "outputs": [],
   "source": [
    "# for video in frames_folder_dir:\n",
    "#     video_path = os.path.join(frames_folder_path, video)\n",
    "#     frm_dir = sorted(os.listdir(video_path), key=sort_key)\n",
    "#     new_path = os.path.join(save, video, \"_3\")\n",
    "#     os.makedirs(new_path, exist_ok=True)\n",
    "#     # List to store frames\n",
    "#     frames = []\n",
    "#     # List all files in the folder\n",
    "#     for filename in frm_dir:\n",
    "#         # Construct the full file path\n",
    "#         file_path = os.path.join(video_path, filename)\n",
    "#         # Read the image file\n",
    "#         frame = cv2.imread(file_path)\n",
    "\n",
    "#         # Append the frame to the list\n",
    "#         frames.append(frame)\n",
    "#         # Now, 'frames' is a list of all frames in the folder\n",
    "#     random_erase(frames, new_path)"
   ]
  },
  {
   "cell_type": "markdown",
   "id": "bb7d18a3",
   "metadata": {},
   "source": [
    "### adding noise "
   ]
  },
  {
   "cell_type": "code",
   "execution_count": 15,
   "id": "870052e3",
   "metadata": {},
   "outputs": [],
   "source": [
    "# def noise(frames, out_video):\n",
    "#     count = 0\n",
    "#     for frame in frames:\n",
    "#         frame = cv2.add(frame, np.random.randint(0, 60, frame.shape, dtype=np.uint8))\n",
    "#         image_path = os.path.join(out_video, \"{}.jpg\".format(count))\n",
    "#         cv2.imwrite(image_path, frame)\n",
    "#         count += 1"
   ]
  },
  {
   "cell_type": "code",
   "execution_count": 16,
   "id": "25374d88",
   "metadata": {},
   "outputs": [],
   "source": [
    "# # Specify the path to the folder containing the frames\n",
    "# for video in frames_folder_dir:\n",
    "#     video_path = os.path.join(frames_folder_path, video)\n",
    "#     frm_dir = sorted(os.listdir(video_path), key=sort_key)\n",
    "#     new_path = os.path.join(save, video, \"_4\")\n",
    "#     os.makedirs(new_path, exist_ok=True)\n",
    "#     # List to store frames\n",
    "#     frames = []\n",
    "#     # List all files in the folder\n",
    "#     for filename in frm_dir:\n",
    "#         # Construct the full file path\n",
    "#         file_path = os.path.join(video_path, filename)\n",
    "#         # Read the image file\n",
    "#         frame = cv2.imread(file_path)\n",
    "\n",
    "#         # Append the frame to the list\n",
    "#         frames.append(frame)\n",
    "#         # Now, 'frames' is a list of all frames in the folder\n",
    "#     noise(frames, new_path)"
   ]
  },
  {
   "cell_type": "code",
   "execution_count": null,
   "id": "fc7d90d4",
   "metadata": {},
   "outputs": [],
   "source": []
  }
 ],
 "metadata": {
  "kernelspec": {
   "display_name": "Python 3 (ipykernel)",
   "language": "python",
   "name": "python3"
  },
  "language_info": {
   "codemirror_mode": {
    "name": "ipython",
    "version": 3
   },
   "file_extension": ".py",
   "mimetype": "text/x-python",
   "name": "python",
   "nbconvert_exporter": "python",
   "pygments_lexer": "ipython3",
   "version": "3.9.7"
  }
 },
 "nbformat": 4,
 "nbformat_minor": 5
}
