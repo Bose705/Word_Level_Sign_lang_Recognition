{
 "cells": [
  {
   "cell_type": "code",
   "execution_count": 15,
   "id": "2c3cd67e",
   "metadata": {},
   "outputs": [],
   "source": [
    "import cv2\n",
    "import numpy as np\n",
    "from keras.models import load_model\n",
    "import time"
   ]
  },
  {
   "cell_type": "code",
   "execution_count": 3,
   "id": "49b140e2",
   "metadata": {
    "scrolled": true
   },
   "outputs": [],
   "source": [
    "# Load the model\n",
    "model = load_model('my_model.keras')"
   ]
  },
  {
   "cell_type": "code",
   "execution_count": 16,
   "id": "86dfc2a1",
   "metadata": {
    "scrolled": true
   },
   "outputs": [
    {
     "data": {
      "text/html": [
       "<pre style=\"white-space:pre;overflow-x:auto;line-height:normal;font-family:Menlo,'DejaVu Sans Mono',consolas,'Courier New',monospace\"><span style=\"font-weight: bold\">Model: \"functional_27\"</span>\n",
       "</pre>\n"
      ],
      "text/plain": [
       "\u001b[1mModel: \"functional_27\"\u001b[0m\n"
      ]
     },
     "metadata": {},
     "output_type": "display_data"
    },
    {
     "data": {
      "text/html": [
       "<pre style=\"white-space:pre;overflow-x:auto;line-height:normal;font-family:Menlo,'DejaVu Sans Mono',consolas,'Courier New',monospace\">┏━━━━━━━━━━━━━━━━━━━━━━━━━━━━━━━━━━━━━━┳━━━━━━━━━━━━━━━━━━━━━━━━━━━━━┳━━━━━━━━━━━━━━━━━┓\n",
       "┃<span style=\"font-weight: bold\"> Layer (type)                         </span>┃<span style=\"font-weight: bold\"> Output Shape                </span>┃<span style=\"font-weight: bold\">         Param # </span>┃\n",
       "┡━━━━━━━━━━━━━━━━━━━━━━━━━━━━━━━━━━━━━━╇━━━━━━━━━━━━━━━━━━━━━━━━━━━━━╇━━━━━━━━━━━━━━━━━┩\n",
       "│ input_layer_6 (<span style=\"color: #0087ff; text-decoration-color: #0087ff\">InputLayer</span>)           │ (<span style=\"color: #00d7ff; text-decoration-color: #00d7ff\">None</span>, <span style=\"color: #00af00; text-decoration-color: #00af00\">60</span>, <span style=\"color: #00af00; text-decoration-color: #00af00\">300</span>, <span style=\"color: #00af00; text-decoration-color: #00af00\">300</span>)        │               <span style=\"color: #00af00; text-decoration-color: #00af00\">0</span> │\n",
       "├──────────────────────────────────────┼─────────────────────────────┼─────────────────┤\n",
       "│ conv2d_18 (<span style=\"color: #0087ff; text-decoration-color: #0087ff\">Conv2D</span>)                   │ (<span style=\"color: #00d7ff; text-decoration-color: #00d7ff\">None</span>, <span style=\"color: #00af00; text-decoration-color: #00af00\">60</span>, <span style=\"color: #00af00; text-decoration-color: #00af00\">300</span>, <span style=\"color: #00af00; text-decoration-color: #00af00\">32</span>)         │          <span style=\"color: #00af00; text-decoration-color: #00af00\">86,432</span> │\n",
       "├──────────────────────────────────────┼─────────────────────────────┼─────────────────┤\n",
       "│ batch_normalization_18               │ (<span style=\"color: #00d7ff; text-decoration-color: #00d7ff\">None</span>, <span style=\"color: #00af00; text-decoration-color: #00af00\">60</span>, <span style=\"color: #00af00; text-decoration-color: #00af00\">300</span>, <span style=\"color: #00af00; text-decoration-color: #00af00\">32</span>)         │             <span style=\"color: #00af00; text-decoration-color: #00af00\">128</span> │\n",
       "│ (<span style=\"color: #0087ff; text-decoration-color: #0087ff\">BatchNormalization</span>)                 │                             │                 │\n",
       "├──────────────────────────────────────┼─────────────────────────────┼─────────────────┤\n",
       "│ max_pooling2d_18 (<span style=\"color: #0087ff; text-decoration-color: #0087ff\">MaxPooling2D</span>)      │ (<span style=\"color: #00d7ff; text-decoration-color: #00d7ff\">None</span>, <span style=\"color: #00af00; text-decoration-color: #00af00\">30</span>, <span style=\"color: #00af00; text-decoration-color: #00af00\">150</span>, <span style=\"color: #00af00; text-decoration-color: #00af00\">32</span>)         │               <span style=\"color: #00af00; text-decoration-color: #00af00\">0</span> │\n",
       "├──────────────────────────────────────┼─────────────────────────────┼─────────────────┤\n",
       "│ conv2d_19 (<span style=\"color: #0087ff; text-decoration-color: #0087ff\">Conv2D</span>)                   │ (<span style=\"color: #00d7ff; text-decoration-color: #00d7ff\">None</span>, <span style=\"color: #00af00; text-decoration-color: #00af00\">30</span>, <span style=\"color: #00af00; text-decoration-color: #00af00\">150</span>, <span style=\"color: #00af00; text-decoration-color: #00af00\">64</span>)         │          <span style=\"color: #00af00; text-decoration-color: #00af00\">18,496</span> │\n",
       "├──────────────────────────────────────┼─────────────────────────────┼─────────────────┤\n",
       "│ batch_normalization_19               │ (<span style=\"color: #00d7ff; text-decoration-color: #00d7ff\">None</span>, <span style=\"color: #00af00; text-decoration-color: #00af00\">30</span>, <span style=\"color: #00af00; text-decoration-color: #00af00\">150</span>, <span style=\"color: #00af00; text-decoration-color: #00af00\">64</span>)         │             <span style=\"color: #00af00; text-decoration-color: #00af00\">256</span> │\n",
       "│ (<span style=\"color: #0087ff; text-decoration-color: #0087ff\">BatchNormalization</span>)                 │                             │                 │\n",
       "├──────────────────────────────────────┼─────────────────────────────┼─────────────────┤\n",
       "│ max_pooling2d_19 (<span style=\"color: #0087ff; text-decoration-color: #0087ff\">MaxPooling2D</span>)      │ (<span style=\"color: #00d7ff; text-decoration-color: #00d7ff\">None</span>, <span style=\"color: #00af00; text-decoration-color: #00af00\">15</span>, <span style=\"color: #00af00; text-decoration-color: #00af00\">75</span>, <span style=\"color: #00af00; text-decoration-color: #00af00\">64</span>)          │               <span style=\"color: #00af00; text-decoration-color: #00af00\">0</span> │\n",
       "├──────────────────────────────────────┼─────────────────────────────┼─────────────────┤\n",
       "│ conv2d_20 (<span style=\"color: #0087ff; text-decoration-color: #0087ff\">Conv2D</span>)                   │ (<span style=\"color: #00d7ff; text-decoration-color: #00d7ff\">None</span>, <span style=\"color: #00af00; text-decoration-color: #00af00\">15</span>, <span style=\"color: #00af00; text-decoration-color: #00af00\">75</span>, <span style=\"color: #00af00; text-decoration-color: #00af00\">128</span>)         │          <span style=\"color: #00af00; text-decoration-color: #00af00\">73,856</span> │\n",
       "├──────────────────────────────────────┼─────────────────────────────┼─────────────────┤\n",
       "│ batch_normalization_20               │ (<span style=\"color: #00d7ff; text-decoration-color: #00d7ff\">None</span>, <span style=\"color: #00af00; text-decoration-color: #00af00\">15</span>, <span style=\"color: #00af00; text-decoration-color: #00af00\">75</span>, <span style=\"color: #00af00; text-decoration-color: #00af00\">128</span>)         │             <span style=\"color: #00af00; text-decoration-color: #00af00\">512</span> │\n",
       "│ (<span style=\"color: #0087ff; text-decoration-color: #0087ff\">BatchNormalization</span>)                 │                             │                 │\n",
       "├──────────────────────────────────────┼─────────────────────────────┼─────────────────┤\n",
       "│ max_pooling2d_20 (<span style=\"color: #0087ff; text-decoration-color: #0087ff\">MaxPooling2D</span>)      │ (<span style=\"color: #00d7ff; text-decoration-color: #00d7ff\">None</span>, <span style=\"color: #00af00; text-decoration-color: #00af00\">7</span>, <span style=\"color: #00af00; text-decoration-color: #00af00\">37</span>, <span style=\"color: #00af00; text-decoration-color: #00af00\">128</span>)          │               <span style=\"color: #00af00; text-decoration-color: #00af00\">0</span> │\n",
       "├──────────────────────────────────────┼─────────────────────────────┼─────────────────┤\n",
       "│ flatten_6 (<span style=\"color: #0087ff; text-decoration-color: #0087ff\">Flatten</span>)                  │ (<span style=\"color: #00d7ff; text-decoration-color: #00d7ff\">None</span>, <span style=\"color: #00af00; text-decoration-color: #00af00\">33152</span>)               │               <span style=\"color: #00af00; text-decoration-color: #00af00\">0</span> │\n",
       "├──────────────────────────────────────┼─────────────────────────────┼─────────────────┤\n",
       "│ dense_12 (<span style=\"color: #0087ff; text-decoration-color: #0087ff\">Dense</span>)                     │ (<span style=\"color: #00d7ff; text-decoration-color: #00d7ff\">None</span>, <span style=\"color: #00af00; text-decoration-color: #00af00\">128</span>)                 │       <span style=\"color: #00af00; text-decoration-color: #00af00\">4,243,584</span> │\n",
       "├──────────────────────────────────────┼─────────────────────────────┼─────────────────┤\n",
       "│ reshape_6 (<span style=\"color: #0087ff; text-decoration-color: #0087ff\">Reshape</span>)                  │ (<span style=\"color: #00d7ff; text-decoration-color: #00d7ff\">None</span>, <span style=\"color: #00af00; text-decoration-color: #00af00\">1</span>, <span style=\"color: #00af00; text-decoration-color: #00af00\">128</span>)              │               <span style=\"color: #00af00; text-decoration-color: #00af00\">0</span> │\n",
       "├──────────────────────────────────────┼─────────────────────────────┼─────────────────┤\n",
       "│ lstm_6 (<span style=\"color: #0087ff; text-decoration-color: #0087ff\">LSTM</span>)                        │ (<span style=\"color: #00d7ff; text-decoration-color: #00d7ff\">None</span>, <span style=\"color: #00af00; text-decoration-color: #00af00\">128</span>)                 │         <span style=\"color: #00af00; text-decoration-color: #00af00\">131,584</span> │\n",
       "├──────────────────────────────────────┼─────────────────────────────┼─────────────────┤\n",
       "│ dense_13 (<span style=\"color: #0087ff; text-decoration-color: #0087ff\">Dense</span>)                     │ (<span style=\"color: #00d7ff; text-decoration-color: #00d7ff\">None</span>, <span style=\"color: #00af00; text-decoration-color: #00af00\">2</span>)                   │             <span style=\"color: #00af00; text-decoration-color: #00af00\">258</span> │\n",
       "└──────────────────────────────────────┴─────────────────────────────┴─────────────────┘\n",
       "</pre>\n"
      ],
      "text/plain": [
       "┏━━━━━━━━━━━━━━━━━━━━━━━━━━━━━━━━━━━━━━┳━━━━━━━━━━━━━━━━━━━━━━━━━━━━━┳━━━━━━━━━━━━━━━━━┓\n",
       "┃\u001b[1m \u001b[0m\u001b[1mLayer (type)                        \u001b[0m\u001b[1m \u001b[0m┃\u001b[1m \u001b[0m\u001b[1mOutput Shape               \u001b[0m\u001b[1m \u001b[0m┃\u001b[1m \u001b[0m\u001b[1m        Param #\u001b[0m\u001b[1m \u001b[0m┃\n",
       "┡━━━━━━━━━━━━━━━━━━━━━━━━━━━━━━━━━━━━━━╇━━━━━━━━━━━━━━━━━━━━━━━━━━━━━╇━━━━━━━━━━━━━━━━━┩\n",
       "│ input_layer_6 (\u001b[38;5;33mInputLayer\u001b[0m)           │ (\u001b[38;5;45mNone\u001b[0m, \u001b[38;5;34m60\u001b[0m, \u001b[38;5;34m300\u001b[0m, \u001b[38;5;34m300\u001b[0m)        │               \u001b[38;5;34m0\u001b[0m │\n",
       "├──────────────────────────────────────┼─────────────────────────────┼─────────────────┤\n",
       "│ conv2d_18 (\u001b[38;5;33mConv2D\u001b[0m)                   │ (\u001b[38;5;45mNone\u001b[0m, \u001b[38;5;34m60\u001b[0m, \u001b[38;5;34m300\u001b[0m, \u001b[38;5;34m32\u001b[0m)         │          \u001b[38;5;34m86,432\u001b[0m │\n",
       "├──────────────────────────────────────┼─────────────────────────────┼─────────────────┤\n",
       "│ batch_normalization_18               │ (\u001b[38;5;45mNone\u001b[0m, \u001b[38;5;34m60\u001b[0m, \u001b[38;5;34m300\u001b[0m, \u001b[38;5;34m32\u001b[0m)         │             \u001b[38;5;34m128\u001b[0m │\n",
       "│ (\u001b[38;5;33mBatchNormalization\u001b[0m)                 │                             │                 │\n",
       "├──────────────────────────────────────┼─────────────────────────────┼─────────────────┤\n",
       "│ max_pooling2d_18 (\u001b[38;5;33mMaxPooling2D\u001b[0m)      │ (\u001b[38;5;45mNone\u001b[0m, \u001b[38;5;34m30\u001b[0m, \u001b[38;5;34m150\u001b[0m, \u001b[38;5;34m32\u001b[0m)         │               \u001b[38;5;34m0\u001b[0m │\n",
       "├──────────────────────────────────────┼─────────────────────────────┼─────────────────┤\n",
       "│ conv2d_19 (\u001b[38;5;33mConv2D\u001b[0m)                   │ (\u001b[38;5;45mNone\u001b[0m, \u001b[38;5;34m30\u001b[0m, \u001b[38;5;34m150\u001b[0m, \u001b[38;5;34m64\u001b[0m)         │          \u001b[38;5;34m18,496\u001b[0m │\n",
       "├──────────────────────────────────────┼─────────────────────────────┼─────────────────┤\n",
       "│ batch_normalization_19               │ (\u001b[38;5;45mNone\u001b[0m, \u001b[38;5;34m30\u001b[0m, \u001b[38;5;34m150\u001b[0m, \u001b[38;5;34m64\u001b[0m)         │             \u001b[38;5;34m256\u001b[0m │\n",
       "│ (\u001b[38;5;33mBatchNormalization\u001b[0m)                 │                             │                 │\n",
       "├──────────────────────────────────────┼─────────────────────────────┼─────────────────┤\n",
       "│ max_pooling2d_19 (\u001b[38;5;33mMaxPooling2D\u001b[0m)      │ (\u001b[38;5;45mNone\u001b[0m, \u001b[38;5;34m15\u001b[0m, \u001b[38;5;34m75\u001b[0m, \u001b[38;5;34m64\u001b[0m)          │               \u001b[38;5;34m0\u001b[0m │\n",
       "├──────────────────────────────────────┼─────────────────────────────┼─────────────────┤\n",
       "│ conv2d_20 (\u001b[38;5;33mConv2D\u001b[0m)                   │ (\u001b[38;5;45mNone\u001b[0m, \u001b[38;5;34m15\u001b[0m, \u001b[38;5;34m75\u001b[0m, \u001b[38;5;34m128\u001b[0m)         │          \u001b[38;5;34m73,856\u001b[0m │\n",
       "├──────────────────────────────────────┼─────────────────────────────┼─────────────────┤\n",
       "│ batch_normalization_20               │ (\u001b[38;5;45mNone\u001b[0m, \u001b[38;5;34m15\u001b[0m, \u001b[38;5;34m75\u001b[0m, \u001b[38;5;34m128\u001b[0m)         │             \u001b[38;5;34m512\u001b[0m │\n",
       "│ (\u001b[38;5;33mBatchNormalization\u001b[0m)                 │                             │                 │\n",
       "├──────────────────────────────────────┼─────────────────────────────┼─────────────────┤\n",
       "│ max_pooling2d_20 (\u001b[38;5;33mMaxPooling2D\u001b[0m)      │ (\u001b[38;5;45mNone\u001b[0m, \u001b[38;5;34m7\u001b[0m, \u001b[38;5;34m37\u001b[0m, \u001b[38;5;34m128\u001b[0m)          │               \u001b[38;5;34m0\u001b[0m │\n",
       "├──────────────────────────────────────┼─────────────────────────────┼─────────────────┤\n",
       "│ flatten_6 (\u001b[38;5;33mFlatten\u001b[0m)                  │ (\u001b[38;5;45mNone\u001b[0m, \u001b[38;5;34m33152\u001b[0m)               │               \u001b[38;5;34m0\u001b[0m │\n",
       "├──────────────────────────────────────┼─────────────────────────────┼─────────────────┤\n",
       "│ dense_12 (\u001b[38;5;33mDense\u001b[0m)                     │ (\u001b[38;5;45mNone\u001b[0m, \u001b[38;5;34m128\u001b[0m)                 │       \u001b[38;5;34m4,243,584\u001b[0m │\n",
       "├──────────────────────────────────────┼─────────────────────────────┼─────────────────┤\n",
       "│ reshape_6 (\u001b[38;5;33mReshape\u001b[0m)                  │ (\u001b[38;5;45mNone\u001b[0m, \u001b[38;5;34m1\u001b[0m, \u001b[38;5;34m128\u001b[0m)              │               \u001b[38;5;34m0\u001b[0m │\n",
       "├──────────────────────────────────────┼─────────────────────────────┼─────────────────┤\n",
       "│ lstm_6 (\u001b[38;5;33mLSTM\u001b[0m)                        │ (\u001b[38;5;45mNone\u001b[0m, \u001b[38;5;34m128\u001b[0m)                 │         \u001b[38;5;34m131,584\u001b[0m │\n",
       "├──────────────────────────────────────┼─────────────────────────────┼─────────────────┤\n",
       "│ dense_13 (\u001b[38;5;33mDense\u001b[0m)                     │ (\u001b[38;5;45mNone\u001b[0m, \u001b[38;5;34m2\u001b[0m)                   │             \u001b[38;5;34m258\u001b[0m │\n",
       "└──────────────────────────────────────┴─────────────────────────────┴─────────────────┘\n"
      ]
     },
     "metadata": {},
     "output_type": "display_data"
    },
    {
     "data": {
      "text/html": [
       "<pre style=\"white-space:pre;overflow-x:auto;line-height:normal;font-family:Menlo,'DejaVu Sans Mono',consolas,'Courier New',monospace\"><span style=\"font-weight: bold\"> Total params: </span><span style=\"color: #00af00; text-decoration-color: #00af00\">13,664,424</span> (52.13 MB)\n",
       "</pre>\n"
      ],
      "text/plain": [
       "\u001b[1m Total params: \u001b[0m\u001b[38;5;34m13,664,424\u001b[0m (52.13 MB)\n"
      ]
     },
     "metadata": {},
     "output_type": "display_data"
    },
    {
     "data": {
      "text/html": [
       "<pre style=\"white-space:pre;overflow-x:auto;line-height:normal;font-family:Menlo,'DejaVu Sans Mono',consolas,'Courier New',monospace\"><span style=\"font-weight: bold\"> Trainable params: </span><span style=\"color: #00af00; text-decoration-color: #00af00\">4,554,658</span> (17.37 MB)\n",
       "</pre>\n"
      ],
      "text/plain": [
       "\u001b[1m Trainable params: \u001b[0m\u001b[38;5;34m4,554,658\u001b[0m (17.37 MB)\n"
      ]
     },
     "metadata": {},
     "output_type": "display_data"
    },
    {
     "data": {
      "text/html": [
       "<pre style=\"white-space:pre;overflow-x:auto;line-height:normal;font-family:Menlo,'DejaVu Sans Mono',consolas,'Courier New',monospace\"><span style=\"font-weight: bold\"> Non-trainable params: </span><span style=\"color: #00af00; text-decoration-color: #00af00\">448</span> (1.75 KB)\n",
       "</pre>\n"
      ],
      "text/plain": [
       "\u001b[1m Non-trainable params: \u001b[0m\u001b[38;5;34m448\u001b[0m (1.75 KB)\n"
      ]
     },
     "metadata": {},
     "output_type": "display_data"
    },
    {
     "data": {
      "text/html": [
       "<pre style=\"white-space:pre;overflow-x:auto;line-height:normal;font-family:Menlo,'DejaVu Sans Mono',consolas,'Courier New',monospace\"><span style=\"font-weight: bold\"> Optimizer params: </span><span style=\"color: #00af00; text-decoration-color: #00af00\">9,109,318</span> (34.75 MB)\n",
       "</pre>\n"
      ],
      "text/plain": [
       "\u001b[1m Optimizer params: \u001b[0m\u001b[38;5;34m9,109,318\u001b[0m (34.75 MB)\n"
      ]
     },
     "metadata": {},
     "output_type": "display_data"
    }
   ],
   "source": [
    "model.summary()"
   ]
  },
  {
   "cell_type": "code",
   "execution_count": 20,
   "id": "85341a0c",
   "metadata": {},
   "outputs": [
    {
     "name": "stdout",
     "output_type": "stream",
     "text": [
      "\u001b[1m1/1\u001b[0m \u001b[32m━━━━━━━━━━━━━━━━━━━━\u001b[0m\u001b[37m\u001b[0m \u001b[1m0s\u001b[0m 363ms/step\n"
     ]
    }
   ],
   "source": [
    "import cv2\n",
    "import numpy as np\n",
    "from keras.models import load_model\n",
    "import time\n",
    "\n",
    "# Load the model\n",
    "model = load_model('my_model.keras')\n",
    "\n",
    "# Open the video capture \n",
    "cap = cv2.VideoCapture(0) # Use 0 for webcam, or replace with video file path\n",
    "\n",
    "# Set the frame rate for 5 seconds\n",
    "cap.set(cv2.CAP_PROP_FPS, 60)\n",
    "\n",
    "# Initialize an empty list to hold the frames\n",
    "frames = []\n",
    "\n",
    "# Start time for capturing frames\n",
    "start_time = time.time()\n",
    "\n",
    "# Mapping of model output indices to class names\n",
    "class_names = ['cousin', 'go'] # Replace with your actual class names\n",
    "\n",
    "while True:\n",
    "    # Capture frame-by-frame\n",
    "    ret, frame = cap.read()\n",
    "    \n",
    "    if not ret:\n",
    "        break\n",
    "    \n",
    "    # Convert the frame to grayscale\n",
    "    frame_gray = cv2.cvtColor(frame, cv2.COLOR_BGR2GRAY)\n",
    "    \n",
    "    # Resize the grayscale frame to 300x300\n",
    "    frame_resized = cv2.resize(frame_gray, (300, 300))\n",
    "    \n",
    "    #Normalization\n",
    "    frame_norm = frame_resized/255\n",
    "    \n",
    "    # Add the frame to the list\n",
    "    frames.append(frame_norm)\n",
    "    \n",
    "    # Check if we have captured 63 frames or if 5 seconds have passed\n",
    "    if len(frames) >= 60 or time.time() - start_time >= 5:\n",
    "        break\n",
    "\n",
    "# Convert the list of frames to a 4D numpy array\n",
    "frames_array = np.array(frames)\n",
    "\n",
    "# Reshape the array to match the expected input shape (batch size, number of frames, height, width, channels)\n",
    "frames_array = np.expand_dims(frames_array, axis=0)\n",
    "\n",
    "# Predict using the model\n",
    "prediction = model.predict(frames_array)\n",
    "\n",
    "# Convert the model's output to the class name\n",
    "predicted_class_index = np.argmax(prediction, axis=1)\n",
    "predicted_class_name = class_names[predicted_class_index[0]]\n",
    "\n",
    "# Display the class name on the video frame\n",
    "frame_with_text = cv2.putText(frame, predicted_class_name, (10, 30), cv2.FONT_HERSHEY_SIMPLEX, 1, (0, 0, 0), 2)\n",
    "\n",
    "# Display the frame with the class name\n",
    "cv2.imshow('Prediction', frame_with_text)\n",
    "\n",
    "# Wait for a key press and close the window\n",
    "cv2.waitKey(0)\n",
    "cv2.destroyAllWindows()"
   ]
  },
  {
   "cell_type": "code",
   "execution_count": null,
   "id": "bf3d3f3a",
   "metadata": {},
   "outputs": [],
   "source": []
  },
  {
   "cell_type": "code",
   "execution_count": null,
   "id": "920d0d2a",
   "metadata": {},
   "outputs": [],
   "source": []
  },
  {
   "cell_type": "code",
   "execution_count": null,
   "id": "e05b66cf",
   "metadata": {},
   "outputs": [],
   "source": []
  },
  {
   "cell_type": "code",
   "execution_count": null,
   "id": "02c595e1",
   "metadata": {},
   "outputs": [],
   "source": []
  },
  {
   "cell_type": "code",
   "execution_count": null,
   "id": "b38f2d89",
   "metadata": {},
   "outputs": [],
   "source": []
  },
  {
   "cell_type": "code",
   "execution_count": null,
   "id": "7aa025b7",
   "metadata": {},
   "outputs": [],
   "source": []
  },
  {
   "cell_type": "code",
   "execution_count": null,
   "id": "246de788",
   "metadata": {},
   "outputs": [],
   "source": []
  },
  {
   "cell_type": "code",
   "execution_count": null,
   "id": "074c0b45",
   "metadata": {},
   "outputs": [],
   "source": []
  },
  {
   "cell_type": "code",
   "execution_count": null,
   "id": "c2da8f14",
   "metadata": {},
   "outputs": [],
   "source": []
  },
  {
   "cell_type": "code",
   "execution_count": null,
   "id": "f2939a96",
   "metadata": {},
   "outputs": [],
   "source": []
  },
  {
   "cell_type": "code",
   "execution_count": null,
   "id": "7c4eab8c",
   "metadata": {},
   "outputs": [],
   "source": []
  },
  {
   "cell_type": "code",
   "execution_count": null,
   "id": "b0c4d192",
   "metadata": {},
   "outputs": [],
   "source": []
  },
  {
   "cell_type": "code",
   "execution_count": null,
   "id": "a77a5093",
   "metadata": {},
   "outputs": [],
   "source": []
  },
  {
   "cell_type": "code",
   "execution_count": null,
   "id": "5a9d91d4",
   "metadata": {},
   "outputs": [],
   "source": []
  },
  {
   "cell_type": "code",
   "execution_count": null,
   "id": "5ae891f1",
   "metadata": {},
   "outputs": [],
   "source": []
  },
  {
   "cell_type": "code",
   "execution_count": null,
   "id": "8f95f2b9",
   "metadata": {},
   "outputs": [],
   "source": []
  },
  {
   "cell_type": "code",
   "execution_count": null,
   "id": "de569682",
   "metadata": {},
   "outputs": [],
   "source": []
  },
  {
   "cell_type": "code",
   "execution_count": null,
   "id": "0278f662",
   "metadata": {},
   "outputs": [],
   "source": []
  },
  {
   "cell_type": "code",
   "execution_count": null,
   "id": "6a96d097",
   "metadata": {},
   "outputs": [],
   "source": []
  },
  {
   "cell_type": "code",
   "execution_count": null,
   "id": "a7e2ab9e",
   "metadata": {},
   "outputs": [],
   "source": []
  },
  {
   "cell_type": "code",
   "execution_count": null,
   "id": "f1045fe8",
   "metadata": {},
   "outputs": [],
   "source": []
  },
  {
   "cell_type": "code",
   "execution_count": 6,
   "id": "bb5ec787",
   "metadata": {},
   "outputs": [],
   "source": [
    "# import matplotlib.pyplot as plt\n",
    "# import numpy as np\n",
    "# from mpl_toolkits.mplot3d import Axes3D\n",
    "\n",
    "\n",
    "# class ModelPlot(object):\n",
    "# \t\"\"\"ModelPlot\"\"\"\n",
    "# \tdef _init_(self, model, grid=True, connection=False, linewidth=0.1):\n",
    "# \t\tsuper(ModelPlot, self)._init_()\n",
    "\n",
    "# \t\tself.model        = model\n",
    "# \t\tself.grid         = grid\n",
    "# \t\tself.connection   = connection\n",
    "# \t\tself.linewidth    = linewidth\n",
    "\n",
    "\t\n",
    "# \tdef _layer(self, shape, name):\n",
    "# \t\t\"\"\"add more feature on layers\"\"\"\n",
    "# \t\tlay_shape     = None\n",
    "# \t\tlay_name      = None\n",
    "# \t\tlay_color     = None\n",
    "# \t\tlay_marker\t  =\tNone\n",
    "\n",
    "# \t\tif len(shape) == 1:\n",
    "# \t\t\tlay_shape = (shape[0],1,1)\n",
    "# \t\telif len(shape) == 2:\n",
    "# \t\t\tlay_shape = (shape[0],shape[1],1)\n",
    "# \t\telse:\n",
    "# \t\t\tif name == 'MaxPooling2D' or name == 'AveragePooling2D':\n",
    "# \t\t\t\tlay_shape = (shape[0],shape[1],1)\n",
    "# \t\t\telse:\n",
    "# \t\t\t\tlay_shape = shape\n",
    "\n",
    "# \t\tlay_name = name\n",
    "\n",
    "# \t\tif len(lay_shape) == 3 and lay_shape[-1] == 3:\n",
    "# \t\t\tlay_color  = 'rgb'\n",
    "# \t\t\tlay_marker = 'o'\n",
    "# \t\telse:\n",
    "# \t\t\tif lay_name == 'InputLayer':\n",
    "# \t\t\t\tlay_color  = 'r'\n",
    "# \t\t\t\tlay_marker = 'o'\n",
    "# \t\t\telif lay_name == 'Conv2D':\n",
    "# \t\t\t\tlay_color  = 'y'\n",
    "# \t\t\t\tlay_marker = '^'\n",
    "# \t\t\telif lay_name == 'MaxPooling2D' or lay_name == 'AveragePooling2D':\n",
    "# \t\t\t\tlay_color  = 'c'\n",
    "# \t\t\t\tlay_marker = '.'\n",
    "# \t\t\telse:\n",
    "# \t\t\t\tlay_color  = 'g'\n",
    "# \t\t\t\tlay_marker = '.'\n",
    "\n",
    "# \t\treturn {'shape': lay_shape, 'name': lay_name, 'color': lay_color, 'marker': lay_marker}\n",
    "\n",
    "\n",
    "# \tdef _model2layer(self):\n",
    "# \t\t\"\"\"fatch layers name and shape from model\"\"\"\n",
    "# \t\tlayers = []\n",
    "\n",
    "# \t\tfor i in self.model.layers:\n",
    "# \t\t\tname = str(i.with_name_scope).split('.')[-1][:-3]\n",
    "# \t\t\tif name   == 'InputLayer':\n",
    "# \t\t\t\tshape = i.input_shape[0][1:]\t\t\t\t\n",
    "# \t\t\telif name == 'MaxPooling2D':\n",
    "# \t\t\t\tshape = i.input_shape[1:]\n",
    "# \t\t\telse:\n",
    "# \t\t\t\tshape = i.output_shape[1:]\n",
    "# \t\t\tlayers.append((tuple(shape), name))\n",
    "\n",
    "# \t\treturn layers\n",
    "\n",
    "# \tdef _shape2array(self, shape, layers_len, xy_max):\n",
    "# \t\t\"\"\"create shape to array/matrix\"\"\"\n",
    "# \t\tx = shape[0]\n",
    "# \t\ty = shape[1]\n",
    "# \t\tz = shape[2]\n",
    "\n",
    "# \t\tsingle_layer = []\n",
    "\n",
    "# \t\tif xy_max[0] < x:\n",
    "# \t\t\txy_max[0] = x\n",
    "# \t\tif xy_max[1] < y:\n",
    "# \t\t\txy_max[1] = y\n",
    "\n",
    "# \t\tfor k in range(z):\n",
    "# \t\t\tarr_x, arr_y, arr_z = [], [], []\n",
    "\n",
    "# \t\t\tfor i in range(y):\n",
    "# \t\t\t\tox = [j for j in range(x)]\n",
    "# \t\t\t\tarr_x.append(ox)\n",
    "\n",
    "# \t\t\tfor i in range(y):\n",
    "# \t\t\t\toy = [j for j in (np.ones(x,dtype=int) * i)]\n",
    "# \t\t\t\tarr_y.append(oy)\n",
    "\n",
    "# \t\t\tfor i in range(y):\n",
    "# \t\t\t\toz = [j for j in (np.ones(y,dtype=int) * layers_len)]\n",
    "# \t\t\t\tarr_z.append(oz)\n",
    "\n",
    "# \t\t\tlayers_len += 2\n",
    "# \t\t\tsingle_layer.append([arr_x, arr_y, arr_z])\n",
    "\n",
    "# \t\tlayers_len += 4\n",
    "\n",
    "# \t\treturn single_layer, layers_len, xy_max\n",
    "\n",
    "# \tdef _dense(self, ax, x1=1, x2=1, y1=1, y2=1, x11=1, x21=1, y11=1, y21=1, z1=1, z2=1, c='r'):\n",
    "# \t\t\"\"\"plot connection between dense units\"\"\"\n",
    "# \t\tfor i in np.arange(x1,x2+1,1):\n",
    "# \t\t\tfor j in np.arange(x11,x21+1,1):\n",
    "# \t\t\t\tfor k in np.arange(y1,y2+1,1):\n",
    "# \t\t\t\t\tfor l in np.arange(y11,y21+1,1):\n",
    "# \t\t\t\t\t\tax.plot([i, j], [z1, z2], [k, l], c=c,linewidth=self.linewidth)\n",
    "\n",
    "# \tdef _plot_dots(self, layers_array, layers_name, layers_color, layers_marker, ax, xy_max):\n",
    "# \t\t\"\"\"plot layers units as dots\"\"\"\n",
    "# \t\ttemp = True\n",
    "# \t\tlast_a, last_b, last_c = [0,0], [0,0], [0,0]\n",
    "\n",
    "# \t\tfor layer, name, color_in, marker in zip(layers_array, layers_name, layers_color, layers_marker):\n",
    "# \t\t\tline_x, line_y, line_z = [],[],[]\n",
    "# \t\t\tcolor_count = 0\n",
    "\n",
    "# \t\t\tfor j in layer:\n",
    "# \t\t\t\tmy_x, my_y, my_z = [],[],[]\n",
    "# \t\t\t\ttemp_list_l=[]\n",
    "\n",
    "# \t\t\t\tfor k in j[0]:\n",
    "# \t\t\t\t\tk = [a + ((xy_max[0]-len(k))/2) for a in k]\n",
    "# \t\t\t\t\tmy_x += k\n",
    "\n",
    "# \t\t\t\tline_x.append([k[0],k[-1]])\n",
    "\n",
    "# \t\t\t\tfor l in j[1]:\n",
    "# \t\t\t\t\tl = [b + ((xy_max[1]-(j[1][-1][-1]+1))/2) for b in l]\n",
    "# \t\t\t\t\tmy_y += l\n",
    "# \t\t\t\t\ttemp_list_l.append(l[0])\n",
    "\n",
    "# \t\t\t\tline_y.append([temp_list_l[0],temp_list_l[-1]])\n",
    "\n",
    "# \t\t\t\tfor k in j[2]:\n",
    "# \t\t\t\t\tmy_z += k\n",
    "\n",
    "# \t\t\t\tline_z.append([k[0],k[-1]])\n",
    "\n",
    "# \t\t\t\tif color_in == 'rgb':\n",
    "# \t\t\t\t\tcolor = color_in[color_count]\n",
    "# \t\t\t\t\tcolor_count+=1\n",
    "# \t\t\t\telse:\n",
    "# \t\t\t\t\tcolor = color_in\n",
    "\n",
    "# \t\t\t\tax.scatter(my_x, my_z, my_y, c=color, marker=marker, s=20)\n",
    "\n",
    "# \t\t\t\tif self.connection:\n",
    "# \t\t\t\t\tif name == 'Dense' or name == 'Flatten':\n",
    "# \t\t\t\t\t\tfor c in line_z:\n",
    "# \t\t\t\t\t\t\ta,b,c = line_x[0],line_y[0], c\n",
    "# \t\t\t\t\t\t\tif temp:\n",
    "# \t\t\t\t\t\t\t\ttemp = False\n",
    "# \t\t\t\t\t\t\t\tlast_a,last_b,last_c = a,b,c\n",
    "# \t\t\t\t\t\t\t\tcontinue\n",
    "\n",
    "# \t\t\t\t\t\t\tif color_in == 'rgb':\n",
    "# \t\t\t\t\t\t\t\tcolor = color_in[color_count]\n",
    "# \t\t\t\t\t\t\t\tcolor_count+=1\n",
    "\n",
    "# \t\t\t\t\t\t\telse:\n",
    "# \t\t\t\t\t\t\t\tcolor = color_in\n",
    "\n",
    "# \t\t\t\t\t\t\tself._dense(ax, a[0],a[1],b[0],b[1], last_a[0],last_a[1],last_b[0],last_b[1],c[0],last_c[0], c=color)\n",
    "# \t\t\t\t\t\t\tlast_a,last_b,last_c = a,b,c\n",
    "\n",
    "\n",
    "# \tdef show(self):\n",
    "# \t\tfig = plt.figure(figsize=(8,8))\n",
    "# \t\tax  = fig.add_subplot(111, projection='3d')\n",
    "\n",
    "# \t\tlayers_len         = 0\n",
    "# \t\tlayers_array       = []\n",
    "# \t\tlayers_name        = []\n",
    "# \t\tlayers_marker      = []\n",
    "# \t\tlayers_color       = []\n",
    "# \t\txy_max            = [0, 0]\n",
    "\n",
    "# \t\t# convert model to layers\n",
    "# \t\tlayers = self._model2layer()\t\n",
    "\n",
    "# \t\t# create layers array\n",
    "# \t\tfor lay in layers:\n",
    "# \t\t\tlayer_dict = self._layer(lay[0], lay[1])\n",
    "# \t\t\tsingle_layer, layers_len, xy_max = self._shape2array(layer_dict['shape'], layers_len, xy_max)\n",
    "\n",
    "# \t\t\tlayers_array.append(single_layer)\n",
    "# \t\t\tlayers_name.append(layer_dict['name'])\n",
    "# \t\t\tlayers_color.append(layer_dict['color'])\n",
    "# \t\t\tlayers_marker.append(layer_dict['marker'])\n",
    "\n",
    "# \t\t# plot dots and lines\n",
    "# \t\tself._plot_dots(layers_array, layers_name, layers_color, layers_marker, ax, xy_max)\n",
    "\n",
    "# \t\t# Hide axes ticks\n",
    "# \t\tif self.grid == False:\n",
    "# \t\t\tax.grid(False)\n",
    "# \t\t\tplt.axis('off')\n",
    "\n",
    "# \t\tplt.show()"
   ]
  },
  {
   "cell_type": "code",
   "execution_count": 7,
   "id": "ab979006",
   "metadata": {},
   "outputs": [
    {
     "ename": "TypeError",
     "evalue": "ModelPlot() takes no arguments",
     "output_type": "error",
     "traceback": [
      "\u001b[1;31m---------------------------------------------------------------------------\u001b[0m",
      "\u001b[1;31mTypeError\u001b[0m                                 Traceback (most recent call last)",
      "\u001b[1;32m~\\AppData\\Local\\Temp/ipykernel_32332/659251069.py\u001b[0m in \u001b[0;36m<module>\u001b[1;34m\u001b[0m\n\u001b[1;32m----> 1\u001b[1;33m \u001b[0mmodelplot\u001b[0m \u001b[1;33m=\u001b[0m \u001b[0mModelPlot\u001b[0m\u001b[1;33m(\u001b[0m\u001b[0mmodel\u001b[0m\u001b[1;33m=\u001b[0m\u001b[0mmodel\u001b[0m\u001b[1;33m,\u001b[0m \u001b[0mgrid\u001b[0m\u001b[1;33m=\u001b[0m\u001b[1;32mTrue\u001b[0m\u001b[1;33m,\u001b[0m \u001b[0mconnection\u001b[0m\u001b[1;33m=\u001b[0m\u001b[1;32mTrue\u001b[0m\u001b[1;33m,\u001b[0m \u001b[0mlinewidth\u001b[0m\u001b[1;33m=\u001b[0m\u001b[1;36m0.1\u001b[0m\u001b[1;33m)\u001b[0m\u001b[1;33m\u001b[0m\u001b[1;33m\u001b[0m\u001b[0m\n\u001b[0m\u001b[0;32m      2\u001b[0m \u001b[0mmodelplot\u001b[0m\u001b[1;33m.\u001b[0m\u001b[0mshow\u001b[0m\u001b[1;33m(\u001b[0m\u001b[1;33m)\u001b[0m\u001b[1;33m\u001b[0m\u001b[1;33m\u001b[0m\u001b[0m\n",
      "\u001b[1;31mTypeError\u001b[0m: ModelPlot() takes no arguments"
     ]
    }
   ],
   "source": [
    "modelplot = ModelPlot(model=model, grid=True, connection=True, linewidth=0.1)\n",
    "modelplot.show()"
   ]
  },
  {
   "cell_type": "code",
   "execution_count": null,
   "id": "7026587f",
   "metadata": {},
   "outputs": [],
   "source": []
  }
 ],
 "metadata": {
  "kernelspec": {
   "display_name": "Python 3 (ipykernel)",
   "language": "python",
   "name": "python3"
  },
  "language_info": {
   "codemirror_mode": {
    "name": "ipython",
    "version": 3
   },
   "file_extension": ".py",
   "mimetype": "text/x-python",
   "name": "python",
   "nbconvert_exporter": "python",
   "pygments_lexer": "ipython3",
   "version": "3.9.7"
  }
 },
 "nbformat": 4,
 "nbformat_minor": 5
}
